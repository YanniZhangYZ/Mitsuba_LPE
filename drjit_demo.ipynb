{
 "cells": [
  {
   "cell_type": "code",
   "execution_count": 1,
   "id": "a6ded4f9-4093-4544-84f2-b5847d21455e",
   "metadata": {},
   "outputs": [],
   "source": [
    "import drjit as dr\n",
    "import mitsuba as mi\n",
    "\n",
    "mi.set_variant('llvm_ad_rgb')"
   ]
  },
  {
   "cell_type": "code",
   "execution_count": 2,
   "id": "f926318f-55b4-4585-9c25-b62c46385729",
   "metadata": {},
   "outputs": [],
   "source": [
    "a = mi.Float([4.0, 8.0, 44.0])\n",
    "b = mi.UInt32([0, 0, 0, 0])\n",
    "\n",
    "N = 4\n",
    "\n",
    "c = dr.zeros(mi.UInt32, N) \n",
    "d = dr.full(mi.UInt32, 4, N) \n",
    "e = dr.arange(mi.UInt32, N) # -> 0, 1, 2, 3 \n",
    "\n",
    "# Masks\n",
    "m1 = dr.full(mi.Bool, True, N)\n",
    "m2 = e < 2 # -> [True, True, False, False]"
   ]
  },
  {
   "cell_type": "code",
   "execution_count": 3,
   "id": "9140dfb1-6168-40fe-a1de-0fcfd3c9653d",
   "metadata": {},
   "outputs": [
    {
     "data": {
      "text/plain": [
       "[True, True, False, False]"
      ]
     },
     "execution_count": 3,
     "metadata": {},
     "output_type": "execute_result"
    }
   ],
   "source": []
  },
  {
   "cell_type": "code",
   "execution_count": 5,
   "id": "c5194584-a21d-4b08-95fe-a761f98667d8",
   "metadata": {},
   "outputs": [
    {
     "data": {
      "text/plain": [
       "[0, 0, 0, 0]"
      ]
     },
     "execution_count": 5,
     "metadata": {},
     "output_type": "execute_result"
    }
   ],
   "source": [
    "state = dr.zeros(mi.UInt32, N) \n",
    "state"
   ]
  },
  {
   "cell_type": "code",
   "execution_count": null,
   "id": "9e3cb019-7eba-4ab0-9b1a-260db19e851e",
   "metadata": {},
   "outputs": [],
   "source": [
    "next_state = dr.zeros(mi.UInt32, N) \n",
    "\n",
    "event = mi.UInt32([1, 1, 1, 2])\n",
    "\n",
    "# Epsilon function for Node 0\n",
    "m_epsilon_0 = dr.eq(event, 1)\n",
    "x = dr.select(m_epsilon_0, 4, 2)\n",
    "              \n",
    "m_0 = dr.eq(state, 0)\n",
    "\n",
    "next_state = dr.select(m_0, x, next_state)\n",
    "next_state[m_0] = x"
   ]
  },
  {
   "cell_type": "code",
   "execution_count": null,
   "id": "07b9f56b-6996-474a-bd40-958266f4cef9",
   "metadata": {},
   "outputs": [],
   "source": [
    "def nfa(state, event) -> next_state"
   ]
  }
 ],
 "metadata": {
  "kernelspec": {
   "display_name": "Python 3.8.9 64-bit",
   "language": "python",
   "name": "python3"
  },
  "language_info": {
   "codemirror_mode": {
    "name": "ipython",
    "version": 3
   },
   "file_extension": ".py",
   "mimetype": "text/x-python",
   "name": "python",
   "nbconvert_exporter": "python",
   "pygments_lexer": "ipython3",
   "version": "3.8.9"
  },
  "vscode": {
   "interpreter": {
    "hash": "31f2aee4e71d21fbe5cf8b01ff0e069b9275f58929596ceb00d14d90e3e16cd6"
   }
  }
 },
 "nbformat": 4,
 "nbformat_minor": 5
}
