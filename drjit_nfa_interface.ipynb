{
 "cells": [
  {
   "cell_type": "code",
   "execution_count": 1,
   "id": "a6ded4f9-4093-4544-84f2-b5847d21455e",
   "metadata": {},
   "outputs": [
    {
     "name": "stdout",
     "output_type": "stream",
     "text": [
      "\u001b[93m[mitsuba] Warning: Couldn't import the ipywidgets package. Installing this package is required for the system to properly log messages and print in Jupyter notebooks!\n"
     ]
    }
   ],
   "source": [
    "import drjit as dr\n",
    "import mitsuba as mi\n",
    "import numpy as np # used for ray events char matrix\n",
    "from nfa import NFA\n",
    "from parse import Verifier\n",
    "\n",
    "mi.set_variant('llvm_ad_rgb')"
   ]
  },
  {
   "cell_type": "code",
   "execution_count": 6,
   "id": "e377616b",
   "metadata": {},
   "outputs": [],
   "source": [
    "# A?\t0 or 1 occurrence of A\n",
    "# A*\t0 or more occurrence of A\n",
    "# A+\t1 or more occurrence of A\n",
    "# .     any event. a wildcard in any position\n",
    "\n",
    "\n",
    "# Build NFA given regex\n",
    "regex = \"1*2.3?4+\"\n",
    "nfa = NFA(regex)\n",
    "nfa.regex_to_nfa()\n",
    "verifier = Verifier()\n",
    "\n",
    "NO_EVENT = mi.Int32(-1)\n",
    "KILLED_STATE = mi.Int32(-1)\n",
    "ACCEPT_STATE = mi.Int32(0)\n"
   ]
  },
  {
   "cell_type": "code",
   "execution_count": 10,
   "id": "a6a8f870",
   "metadata": {},
   "outputs": [],
   "source": [
    "\n",
    "# it seems mi.Int32 doesn't support n-dimension matrix?\n",
    "# events for ray0, ray1, ray2, ray3\n",
    "# events = np.array([['b', 's', 'd', NO_EVENT, NO_EVENT],['a', 'a', 'b', NO_EVENT, NO_EVENT],['a','b', 's', 'd', NO_EVENT],['b', 'b', 'd', 'd','c']])\n",
    "events = np.array([[2, 5, 4, NO_EVENT, NO_EVENT],[1, 1, 2, NO_EVENT, NO_EVENT],[1,2, 5, 4, NO_EVENT],[2, 2, 4, 4,3]])\n"
   ]
  },
  {
   "cell_type": "code",
   "execution_count": null,
   "id": "1c2bf500",
   "metadata": {},
   "outputs": [],
   "source": [
    "# the inital starting node for each ray is 1\n",
    "curr_state_batch = dr.zeros(mi.Int32, 4)\n",
    "\n",
    "for i in range(events.shape[1]): \n",
    "    # for each event batch. \n",
    "    # event batch means first event of all rays, seconde event of all rays..\n",
    "    event_batch = events[:,i]\n",
    "    next_state_batch = batch_tansition(curr_state_batch, event_batch, nfa.node_count)\n",
    "    curr_state_batch = next_state_batch"
   ]
  },
  {
   "cell_type": "code",
   "execution_count": 69,
   "id": "a997ad64",
   "metadata": {},
   "outputs": [],
   "source": [
    "class Interface(Object):\n",
    "\n",
    "    NO_EVENT = mi.Int32(-1)\n",
    "    KILLED_STATE = mi.Int32(-1)\n",
    "\n",
    "    def __init__(self,regex):\n",
    "        self.nfa = None\n",
    "        self.verifier = None\n",
    "        self.regex = regex\n",
    "    \n",
    "    def set_up(self):\n",
    "        self.nfa = NFA(regex)\n",
    "        self.nfa.regex_to_nfa()\n",
    "        self.verifier = Verifier()\n",
    "\n",
    "    # simulation:\n",
    "    # at a specific time slice \n",
    "    # different rays have different state, they are expressed as a vector of state index\n",
    "    # different rays have different incoming events, they are expressed as a vector of events\n",
    "\n",
    "    # Param:\n",
    "        # state batch: array of mi.Int32\n",
    "        # event batch: array of mi.Int32\n",
    "        # nfa_state_num: int\n",
    "    # Return:\n",
    "        # next_state_batch: array of mi.Int32\n",
    "    def batch_tansition(self,state_batch, event_batch, nfa_state_num):\n",
    "        next_state_batch = state_batch\n",
    "\n",
    "        for idx in range(1,nfa_state_num): # handle state_batch by state index masking\n",
    "            #  Filtering state and corresponding events\n",
    "            mask = dr.eq(state_batch, idx)\n",
    "            # filtered_state = dr.select(mask,state_batch,-1)\n",
    "            filtered_event = dr.select(mask,event_batch, NO_EVENT)\n",
    "            # call nfa on \n",
    "            update_filtered_state = self.state_transition_given_event(idx,filtered_event)\n",
    "\n",
    "            next_state_batch = dr.select(mask,update_filtered_state,next_state_batch)\n",
    "        \n",
    "        return next_state_batch\n",
    "\n",
    "    # Param:\n",
    "        # start_node_idx: int. \n",
    "        # filtered_event: array of mi.Int32. The events for rays whose current state index is start_node_idx \n",
    "    # Return:\n",
    "        # update_filtered_state: array of mi.Int32\n",
    "    def state_transition_given_event(self,start_node_idx,filtered_event):\n",
    "        update_filtered_state = []\n",
    "        curr_start_node = self.nfa.get_node(start_node_idx)\n",
    "\n",
    "        for e in filtered_event:\n",
    "\n",
    "            if e == NO_EVENT:\n",
    "                update_filtered_state.append(KILLED_STATE)\n",
    "                continue\n",
    "\n",
    "            next_node_set = self.verifier.verify_one(e, curr_start_node)\n",
    "\n",
    "            if next_node_set is not None:\n",
    "                next_start_node = next_node_set[0].node_ID\n",
    "                update_filtered_state.append(next_start_node)\n",
    "            else:\n",
    "                update_filtered_state.append(KILLED_STATE)\n",
    "            \n",
    "            if self.verifier.has_accepted_state(next_node_set):\n",
    "                update_filtered_state.append(ACCEPT_STATE)\n",
    "        return update_filtered_state\n",
    "        \n",
    "\n",
    "\n",
    "\n",
    "        "
   ]
  },
  {
   "cell_type": "code",
   "execution_count": 75,
   "id": "09cb914a",
   "metadata": {},
   "outputs": [],
   "source": [
    "\n",
    "curr_state_batch = dr.arange(mi.Int32, 4)\n",
    "nfa = NFA()\n",
    "nfa.set_regex(regex)\n",
    "nfa.regex_to_nfa()\n",
    "\n",
    "for i in range(events.shape[1]): # simulate incoming events for each ray at each rendering loop\n",
    "    event_slice = events[:,i]\n",
    "    next_state_batch = batch_tansition(curr_state_batch, event_slice, nfa.node_count)\n",
    "    curr_state_batch = next_state_batch\n"
   ]
  },
  {
   "cell_type": "code",
   "execution_count": null,
   "id": "cd48d6bc",
   "metadata": {},
   "outputs": [],
   "source": [
    "# match regex\n",
    "expected_result_0, passed_node_0 = verifier.verify_all(\"bsd\",nfa.start_node)\n",
    "print(expected_result_0, passed_node_0)\n",
    "\n",
    "# early stop,dosen't match\n",
    "expected_result_1, passed_node_1 = verifier.verify_all(\"aab\",nfa.start_node)\n",
    "print(expected_result_1, passed_node_1)\n",
    "\n",
    "# match regex\n",
    "expected_result_2, passed_node_2 = verifier.verify_all(\"absd\",nfa.start_node)\n",
    "print(expected_result_2, passed_node_2)\n",
    "\n",
    "# dosen't match\n",
    "expected_result_3, passed_node_3 = verifier.verify_all(\"bbddc\",nfa.start_node)\n",
    "print(expected_result_3, passed_node_3)"
   ]
  },
  {
   "cell_type": "code",
   "execution_count": 26,
   "id": "f926318f-55b4-4585-9c25-b62c46385729",
   "metadata": {},
   "outputs": [
    {
     "name": "stdout",
     "output_type": "stream",
     "text": [
      "True\n",
      "True\n",
      "False\n",
      "False\n"
     ]
    }
   ],
   "source": [
    "a = mi.Float([4.0, 8.0, 44.0])\n",
    "b = mi.UInt32([0, 0, 0, 0])\n",
    "\n",
    "N = 4\n",
    "\n",
    "c = dr.zeros(mi.UInt32, N) \n",
    "d = dr.full(mi.UInt32, 4, N) \n",
    "e = dr.arange(mi.UInt32, N) # -> 0, 1, 2, 3 \n",
    "\n",
    "# Masks\n",
    "m1 = dr.full(mi.Bool, True, N)\n",
    "m2 = e < 2 # -> [True, True, False, False]\n",
    "for m in m2:\n",
    "    print(m)\n"
   ]
  },
  {
   "cell_type": "code",
   "execution_count": 25,
   "id": "405a1599",
   "metadata": {},
   "outputs": [
    {
     "ename": "UFuncTypeError",
     "evalue": "ufunc 'multiply' did not contain a loop with signature matching types (dtype('<U1'), dtype('bool')) -> None",
     "output_type": "error",
     "traceback": [
      "\u001b[0;31m---------------------------------------------------------------------------\u001b[0m",
      "\u001b[0;31mUFuncTypeError\u001b[0m                            Traceback (most recent call last)",
      "Cell \u001b[0;32mIn [25], line 3\u001b[0m\n\u001b[1;32m      1\u001b[0m a \u001b[38;5;241m=\u001b[39m np\u001b[38;5;241m.\u001b[39marray([\u001b[38;5;124m'\u001b[39m\u001b[38;5;124ma\u001b[39m\u001b[38;5;124m'\u001b[39m,\u001b[38;5;124m'\u001b[39m\u001b[38;5;124mb\u001b[39m\u001b[38;5;124m'\u001b[39m,\u001b[38;5;124m'\u001b[39m\u001b[38;5;124mc\u001b[39m\u001b[38;5;124m'\u001b[39m,\u001b[38;5;124m'\u001b[39m\u001b[38;5;124md\u001b[39m\u001b[38;5;124m'\u001b[39m])\n\u001b[1;32m      2\u001b[0m m \u001b[38;5;241m=\u001b[39m np\u001b[38;5;241m.\u001b[39marray([ \u001b[38;5;28;01mTrue\u001b[39;00m,\u001b[38;5;28;01mTrue\u001b[39;00m,\u001b[38;5;28;01mFalse\u001b[39;00m,\u001b[38;5;28;01mFalse\u001b[39;00m])\n\u001b[0;32m----> 3\u001b[0m \u001b[43ma\u001b[49m\u001b[38;5;241;43m*\u001b[39;49m\u001b[43mm\u001b[49m\n",
      "\u001b[0;31mUFuncTypeError\u001b[0m: ufunc 'multiply' did not contain a loop with signature matching types (dtype('<U1'), dtype('bool')) -> None"
     ]
    }
   ],
   "source": [
    "a = np.array(['a','b','c','d'])\n",
    "m = np.array([ True,True,False,False])\n",
    "a*m"
   ]
  },
  {
   "cell_type": "code",
   "execution_count": 28,
   "id": "c5194584-a21d-4b08-95fe-a761f98667d8",
   "metadata": {},
   "outputs": [
    {
     "data": {
      "text/plain": [
       "[0, 0, 0, 0]"
      ]
     },
     "execution_count": 28,
     "metadata": {},
     "output_type": "execute_result"
    }
   ],
   "source": [
    "state = dr.zeros(mi.UInt32, N) \n",
    "state"
   ]
  },
  {
   "cell_type": "code",
   "execution_count": 32,
   "id": "9e3cb019-7eba-4ab0-9b1a-260db19e851e",
   "metadata": {},
   "outputs": [
    {
     "name": "stdout",
     "output_type": "stream",
     "text": [
      "[4, 4, 4, 2]\n",
      "[True, True, True, True]\n",
      "[4, 4, 4, 2]\n",
      "[4, 4, 4, 2]\n"
     ]
    }
   ],
   "source": [
    "next_state = dr.zeros(mi.UInt32, N) \n",
    "\n",
    "event = mi.UInt32([1, 1, 1, 2])\n",
    "\n",
    "# Epsilon function for Node 0\n",
    "m_epsilon_0 = dr.eq(event, 1)\n",
    "# true as 4, false as 2\n",
    "x = dr.select(m_epsilon_0, 4, 2)\n",
    "print(x)\n",
    "              \n",
    "m_0 = dr.eq(state, 0)\n",
    "print(m_0)\n",
    "\n",
    "next_state = dr.select(m_0, x, next_state)\n",
    "print(next_state)\n",
    "next_state[m_0] = x\n",
    "print(next_state)\n"
   ]
  },
  {
   "cell_type": "code",
   "execution_count": null,
   "id": "07b9f56b-6996-474a-bd40-958266f4cef9",
   "metadata": {},
   "outputs": [],
   "source": [
    "def nfa(state, event) -> next_state"
   ]
  }
 ],
 "metadata": {
  "kernelspec": {
   "display_name": "Python 3.9.13 ('rgl')",
   "language": "python",
   "name": "python3"
  },
  "language_info": {
   "codemirror_mode": {
    "name": "ipython",
    "version": 3
   },
   "file_extension": ".py",
   "mimetype": "text/x-python",
   "name": "python",
   "nbconvert_exporter": "python",
   "pygments_lexer": "ipython3",
   "version": "3.9.13"
  },
  "vscode": {
   "interpreter": {
    "hash": "0dd348954206cd4db39997712b40c41aa8f493ba068214e637e5921ff8f55c05"
   }
  }
 },
 "nbformat": 4,
 "nbformat_minor": 5
}
